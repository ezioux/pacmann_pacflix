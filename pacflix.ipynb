{
 "cells": [
  {
   "cell_type": "code",
   "execution_count": 1,
   "metadata": {},
   "outputs": [],
   "source": [
    "from pacflix import pacflix"
   ]
  },
  {
   "cell_type": "code",
   "execution_count": 2,
   "metadata": {},
   "outputs": [
    {
     "name": "stdout",
     "output_type": "stream",
     "text": [
      "Your account successfully created, share this code 'Ezi' with your friend\n",
      "Your account successfully created, share this code 'Ana' with your friend\n"
     ]
    }
   ],
   "source": [
    "ezi = pacflix(\"Ezi\")\n",
    "ana = pacflix(\"Ana\")"
   ]
  },
  {
   "cell_type": "code",
   "execution_count": 3,
   "metadata": {},
   "outputs": [
    {
     "data": {
      "text/plain": [
       "['Ezi', 'Ana']"
      ]
     },
     "execution_count": 3,
     "metadata": {},
     "output_type": "execute_result"
    }
   ],
   "source": [
    "pacflix.list_of_referral_code"
   ]
  },
  {
   "cell_type": "code",
   "execution_count": 4,
   "metadata": {},
   "outputs": [
    {
     "name": "stdout",
     "output_type": "stream",
     "text": [
      "List of Pacflix Plan\n",
      "1. Basic Plan\n",
      "SD, 1 device, Movie, Rp 120.000\n",
      "2. Standard Plan\n",
      "HD, 2 devices, Movie + Sports, Rp 160.000\n",
      "3. Premium Plan\n",
      "UHD, 4 devices, Movie + Sports + Pacflix Originals, Rp 200.000\n"
     ]
    }
   ],
   "source": [
    "ezi.list_plan()"
   ]
  },
  {
   "cell_type": "code",
   "execution_count": 5,
   "metadata": {},
   "outputs": [
    {
     "name": "stdout",
     "output_type": "stream",
     "text": [
      "List of Pacflix Plan\n",
      "1. Basic Plan\n",
      "SD, 1 device, Movie, Rp 120.000\n",
      "2. Standard Plan\n",
      "HD, 2 devices, Movie + Sports, Rp 160.000\n",
      "3. Premium Plan\n",
      "UHD, 4 devices, Movie + Sports + Pacflix Originals, Rp 200.000\n"
     ]
    }
   ],
   "source": [
    "ana.list_plan()"
   ]
  },
  {
   "cell_type": "code",
   "execution_count": 6,
   "metadata": {},
   "outputs": [
    {
     "name": "stdout",
     "output_type": "stream",
     "text": [
      "You are not subscribed yet\n"
     ]
    }
   ],
   "source": [
    "ezi.check_plan()"
   ]
  },
  {
   "cell_type": "code",
   "execution_count": 7,
   "metadata": {},
   "outputs": [
    {
     "name": "stdout",
     "output_type": "stream",
     "text": [
      "You are not subscribed yet\n"
     ]
    }
   ],
   "source": [
    "ana.check_plan()"
   ]
  },
  {
   "cell_type": "code",
   "execution_count": 8,
   "metadata": {},
   "outputs": [
    {
     "name": "stdout",
     "output_type": "stream",
     "text": [
      "You've selected Standard Plan for 160000\n"
     ]
    }
   ],
   "source": [
    "ezi.purchase(\"Standard Plan\", None, 20)"
   ]
  },
  {
   "cell_type": "code",
   "execution_count": 9,
   "metadata": {},
   "outputs": [
    {
     "name": "stdout",
     "output_type": "stream",
     "text": [
      "Your current plan is Standard Plan\n",
      "Started subscribing since 2024-02-16 23:34:06.540635\n",
      "Subscription will end at 2025-10-16 23:34:06.540635\n"
     ]
    }
   ],
   "source": [
    "ezi.check_plan()"
   ]
  },
  {
   "cell_type": "code",
   "execution_count": 10,
   "metadata": {},
   "outputs": [
    {
     "name": "stdout",
     "output_type": "stream",
     "text": [
      "You've selected Basic Plan with referral code from Ezi for 115200.0\n"
     ]
    }
   ],
   "source": [
    "ana.purchase(\"Basic Plan\", \"Ezi\", 20)"
   ]
  },
  {
   "cell_type": "code",
   "execution_count": 11,
   "metadata": {},
   "outputs": [
    {
     "name": "stdout",
     "output_type": "stream",
     "text": [
      "Your current plan is Basic Plan\n",
      "Started subscribing since 2024-02-16 23:34:06.571827\n",
      "Subscription will end at 2025-10-16 23:34:06.571827\n"
     ]
    }
   ],
   "source": [
    "ana.check_plan()"
   ]
  },
  {
   "cell_type": "code",
   "execution_count": 12,
   "metadata": {},
   "outputs": [
    {
     "name": "stdout",
     "output_type": "stream",
     "text": [
      "Your account successfully created, share this code 'Yayis' with your friend\n"
     ]
    }
   ],
   "source": [
    "yayis = pacflix(\"Yayis\")"
   ]
  },
  {
   "cell_type": "code",
   "execution_count": 13,
   "metadata": {},
   "outputs": [
    {
     "name": "stdout",
     "output_type": "stream",
     "text": [
      "You are not subscribed yet\n"
     ]
    }
   ],
   "source": [
    "yayis.check_plan()"
   ]
  },
  {
   "cell_type": "code",
   "execution_count": 14,
   "metadata": {},
   "outputs": [
    {
     "name": "stdout",
     "output_type": "stream",
     "text": [
      "Your referral code is invalid\n"
     ]
    }
   ],
   "source": [
    "yayis.purchase(\"Premium Plan\", \"Andra\", 12)"
   ]
  },
  {
   "cell_type": "code",
   "execution_count": 15,
   "metadata": {},
   "outputs": [
    {
     "data": {
      "text/plain": [
       "['Ezi', 'Ana', 'Yayis']"
      ]
     },
     "execution_count": 15,
     "metadata": {},
     "output_type": "execute_result"
    }
   ],
   "source": [
    "pacflix.list_of_referral_code"
   ]
  },
  {
   "cell_type": "code",
   "execution_count": 16,
   "metadata": {},
   "outputs": [],
   "source": [
    "from datetime import datetime\n",
    "from dateutil.relativedelta import relativedelta"
   ]
  },
  {
   "cell_type": "code",
   "execution_count": 17,
   "metadata": {},
   "outputs": [],
   "source": [
    "start_date = datetime.now() + relativedelta(months = 10)"
   ]
  },
  {
   "cell_type": "code",
   "execution_count": 18,
   "metadata": {},
   "outputs": [
    {
     "data": {
      "text/plain": [
       "datetime.datetime(2024, 12, 16, 23, 34, 6, 714490)"
      ]
     },
     "execution_count": 18,
     "metadata": {},
     "output_type": "execute_result"
    }
   ],
   "source": [
    "start_date"
   ]
  },
  {
   "cell_type": "code",
   "execution_count": 19,
   "metadata": {},
   "outputs": [
    {
     "name": "stdout",
     "output_type": "stream",
     "text": [
      "Your selected new plan is invalid\n"
     ]
    }
   ],
   "source": [
    "ana.upgrade_plan(\"Basic Plan\")"
   ]
  },
  {
   "cell_type": "code",
   "execution_count": 20,
   "metadata": {},
   "outputs": [
    {
     "name": "stdout",
     "output_type": "stream",
     "text": [
      "Upgrade to Basic Plan  + discount for 190000.0\n"
     ]
    }
   ],
   "source": [
    "ana.upgrade_plan(\"Premium Plan\")"
   ]
  }
 ],
 "metadata": {
  "kernelspec": {
   "display_name": "pacmann_1_video_streaming",
   "language": "python",
   "name": "python3"
  },
  "language_info": {
   "codemirror_mode": {
    "name": "ipython",
    "version": 3
   },
   "file_extension": ".py",
   "mimetype": "text/x-python",
   "name": "python",
   "nbconvert_exporter": "python",
   "pygments_lexer": "ipython3",
   "version": "3.12.1"
  }
 },
 "nbformat": 4,
 "nbformat_minor": 2
}
